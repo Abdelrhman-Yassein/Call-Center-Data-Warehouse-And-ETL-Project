{
 "cells": [
  {
   "cell_type": "code",
   "execution_count": 1,
   "id": "5b686dd0",
   "metadata": {},
   "outputs": [],
   "source": [
    "# import Libraries\n",
    "from pyspark.sql import SparkSession\n",
    "import pyspark.sql.functions as F\n",
    "from pyspark.sql.functions import monotonically_increasing_id\n",
    "from pyspark.sql.types import DateType\n",
    "import findspark\n",
    "findspark.init()"
   ]
  },
  {
   "cell_type": "code",
   "execution_count": 2,
   "id": "2eebcf5f",
   "metadata": {},
   "outputs": [],
   "source": [
    "# Create New Spark Session With app Name call center\n",
    "spark = (SparkSession\n",
    "         .builder\n",
    "         .appName(\"call-center\")\n",
    "         .config(\"spark.jars\", \"mysql-connector-java-5.1.47.jar\")\n",
    "         .master(\"local\").getOrCreate())"
   ]
  },
  {
   "cell_type": "code",
   "execution_count": 29,
   "id": "8c70f0fb",
   "metadata": {},
   "outputs": [],
   "source": [
    "# Read Call Center Data From Path\n",
    "call_center_df=spark.read.csv(\"data/CallCenter.csv\",header=True)"
   ]
  },
  {
   "cell_type": "code",
   "execution_count": 30,
   "id": "2789bfa1",
   "metadata": {},
   "outputs": [
    {
     "data": {
      "text/html": [
       "<div>\n",
       "<style scoped>\n",
       "    .dataframe tbody tr th:only-of-type {\n",
       "        vertical-align: middle;\n",
       "    }\n",
       "\n",
       "    .dataframe tbody tr th {\n",
       "        vertical-align: top;\n",
       "    }\n",
       "\n",
       "    .dataframe thead th {\n",
       "        text-align: right;\n",
       "    }\n",
       "</style>\n",
       "<table border=\"1\" class=\"dataframe\">\n",
       "  <thead>\n",
       "    <tr style=\"text-align: right;\">\n",
       "      <th></th>\n",
       "      <th>id</th>\n",
       "      <th>customer_name</th>\n",
       "      <th>sentiment</th>\n",
       "      <th>csat_score</th>\n",
       "      <th>call_timestamp</th>\n",
       "      <th>reason</th>\n",
       "      <th>city</th>\n",
       "      <th>state</th>\n",
       "      <th>channel</th>\n",
       "      <th>response_time</th>\n",
       "      <th>call duration in minutes</th>\n",
       "      <th>call_center</th>\n",
       "    </tr>\n",
       "  </thead>\n",
       "  <tbody>\n",
       "    <tr>\n",
       "      <th>0</th>\n",
       "      <td>DKK-57076809-w-055481-fU</td>\n",
       "      <td>Analise Gairdner</td>\n",
       "      <td>Neutral</td>\n",
       "      <td>7</td>\n",
       "      <td>10/29/2020</td>\n",
       "      <td>Billing Question</td>\n",
       "      <td>Detroit</td>\n",
       "      <td>Michigan</td>\n",
       "      <td>Call-Center</td>\n",
       "      <td>Within SLA</td>\n",
       "      <td>17</td>\n",
       "      <td>Los Angeles/CA</td>\n",
       "    </tr>\n",
       "    <tr>\n",
       "      <th>1</th>\n",
       "      <td>QGK-72219678-w-102139-KY</td>\n",
       "      <td>Crichton Kidsley</td>\n",
       "      <td>Very Positive</td>\n",
       "      <td>None</td>\n",
       "      <td>10/05/2020</td>\n",
       "      <td>Service Outage</td>\n",
       "      <td>Spartanburg</td>\n",
       "      <td>South Carolina</td>\n",
       "      <td>Chatbot</td>\n",
       "      <td>Within SLA</td>\n",
       "      <td>23</td>\n",
       "      <td>Baltimore/MD</td>\n",
       "    </tr>\n",
       "  </tbody>\n",
       "</table>\n",
       "</div>"
      ],
      "text/plain": [
       "                         id     customer_name      sentiment csat_score  \\\n",
       "0  DKK-57076809-w-055481-fU  Analise Gairdner        Neutral          7   \n",
       "1  QGK-72219678-w-102139-KY  Crichton Kidsley  Very Positive       None   \n",
       "\n",
       "  call_timestamp            reason         city           state      channel  \\\n",
       "0     10/29/2020  Billing Question      Detroit        Michigan  Call-Center   \n",
       "1     10/05/2020    Service Outage  Spartanburg  South Carolina      Chatbot   \n",
       "\n",
       "  response_time call duration in minutes     call_center  \n",
       "0    Within SLA                       17  Los Angeles/CA  \n",
       "1    Within SLA                       23    Baltimore/MD  "
      ]
     },
     "execution_count": 30,
     "metadata": {},
     "output_type": "execute_result"
    }
   ],
   "source": [
    "#show First Two Rows From Data\n",
    "call_center_df.limit(2).toPandas()"
   ]
  },
  {
   "cell_type": "code",
   "execution_count": 31,
   "id": "c529de66",
   "metadata": {},
   "outputs": [
    {
     "name": "stdout",
     "output_type": "stream",
     "text": [
      "root\n",
      " |-- id: string (nullable = true)\n",
      " |-- customer_name: string (nullable = true)\n",
      " |-- sentiment: string (nullable = true)\n",
      " |-- csat_score: string (nullable = true)\n",
      " |-- call_timestamp: string (nullable = true)\n",
      " |-- reason: string (nullable = true)\n",
      " |-- city: string (nullable = true)\n",
      " |-- state: string (nullable = true)\n",
      " |-- channel: string (nullable = true)\n",
      " |-- response_time: string (nullable = true)\n",
      " |-- call duration in minutes: string (nullable = true)\n",
      " |-- call_center: string (nullable = true)\n",
      "\n"
     ]
    }
   ],
   "source": [
    "# Show Data Schema\n",
    "call_center_df.printSchema()"
   ]
  },
  {
   "cell_type": "markdown",
   "id": "d67cb69e",
   "metadata": {},
   "source": [
    "### Extract Customer Data \n",
    "* customer_id\n",
    "* customer_name\n",
    "* city\n",
    "* state\n",
    "* sentiment\n"
   ]
  },
  {
   "cell_type": "code",
   "execution_count": 32,
   "id": "68a8a0eb",
   "metadata": {},
   "outputs": [
    {
     "data": {
      "text/html": [
       "<div>\n",
       "<style scoped>\n",
       "    .dataframe tbody tr th:only-of-type {\n",
       "        vertical-align: middle;\n",
       "    }\n",
       "\n",
       "    .dataframe tbody tr th {\n",
       "        vertical-align: top;\n",
       "    }\n",
       "\n",
       "    .dataframe thead th {\n",
       "        text-align: right;\n",
       "    }\n",
       "</style>\n",
       "<table border=\"1\" class=\"dataframe\">\n",
       "  <thead>\n",
       "    <tr style=\"text-align: right;\">\n",
       "      <th></th>\n",
       "      <th>customer_name</th>\n",
       "      <th>city</th>\n",
       "      <th>state</th>\n",
       "      <th>sentiment</th>\n",
       "      <th>customer_id</th>\n",
       "    </tr>\n",
       "  </thead>\n",
       "  <tbody>\n",
       "    <tr>\n",
       "      <th>0</th>\n",
       "      <td>Analise Gairdner</td>\n",
       "      <td>Detroit</td>\n",
       "      <td>Michigan</td>\n",
       "      <td>Neutral</td>\n",
       "      <td>0</td>\n",
       "    </tr>\n",
       "    <tr>\n",
       "      <th>1</th>\n",
       "      <td>Crichton Kidsley</td>\n",
       "      <td>Spartanburg</td>\n",
       "      <td>South Carolina</td>\n",
       "      <td>Very Positive</td>\n",
       "      <td>1</td>\n",
       "    </tr>\n",
       "  </tbody>\n",
       "</table>\n",
       "</div>"
      ],
      "text/plain": [
       "      customer_name         city           state      sentiment  customer_id\n",
       "0  Analise Gairdner      Detroit        Michigan        Neutral            0\n",
       "1  Crichton Kidsley  Spartanburg  South Carolina  Very Positive            1"
      ]
     },
     "execution_count": 32,
     "metadata": {},
     "output_type": "execute_result"
    }
   ],
   "source": [
    "# Select Customer Data We Need\n",
    "customer_data=(call_center_df.select('customer_name','city','state','sentiment')\n",
    "               .withColumn('customer_id',monotonically_increasing_id()))\n",
    "# Show First Two Rows From Customer Data \n",
    "customer_data.limit(2).toPandas()"
   ]
  },
  {
   "cell_type": "code",
   "execution_count": 33,
   "id": "aa389242",
   "metadata": {},
   "outputs": [
    {
     "data": {
      "text/plain": [
       "32941"
      ]
     },
     "execution_count": 33,
     "metadata": {},
     "output_type": "execute_result"
    }
   ],
   "source": [
    "# Count Data\n",
    "customer_data.count()"
   ]
  },
  {
   "cell_type": "code",
   "execution_count": 34,
   "id": "a6bab378",
   "metadata": {},
   "outputs": [
    {
     "data": {
      "text/plain": [
       "32941"
      ]
     },
     "execution_count": 34,
     "metadata": {},
     "output_type": "execute_result"
    }
   ],
   "source": [
    "# Show If We Have Duplicate Data\n",
    "customer_data.select('customer_name').distinct().count()"
   ]
  },
  {
   "cell_type": "code",
   "execution_count": 35,
   "id": "7e558295",
   "metadata": {},
   "outputs": [
    {
     "name": "stdout",
     "output_type": "stream",
     "text": [
      "root\n",
      " |-- customer_id: long (nullable = false)\n",
      " |-- customer_name: string (nullable = true)\n",
      " |-- city: string (nullable = true)\n",
      " |-- state: string (nullable = true)\n",
      " |-- sentiment: string (nullable = true)\n",
      "\n"
     ]
    }
   ],
   "source": [
    "# Our Customer Schema Must Be \n",
    "# * customer_id   Int\n",
    "# * customer_name String\n",
    "# * city          String\n",
    "# * state         String\n",
    "# * sentiment     String\n",
    "#reorganization of the structure\n",
    "customer_data = customer_data.select('customer_id','customer_name','city','state','sentiment')\n",
    "#check Our Schema\n",
    "customer_data.printSchema()"
   ]
  },
  {
   "cell_type": "markdown",
   "id": "a4a903be",
   "metadata": {},
   "source": [
    "### Extract Time Data \n",
    "* call_date\n",
    "* day\n",
    "* week\n",
    "* weekday\n",
    "* month \n",
    "* year"
   ]
  },
  {
   "cell_type": "code",
   "execution_count": 36,
   "id": "5094126c",
   "metadata": {},
   "outputs": [
    {
     "data": {
      "text/plain": [
       "31"
      ]
     },
     "execution_count": 36,
     "metadata": {},
     "output_type": "execute_result"
    }
   ],
   "source": [
    "# Check call_timestamp Distinct Values\n",
    "call_center_df.select(\"call_timestamp\").distinct().count()"
   ]
  },
  {
   "cell_type": "code",
   "execution_count": 37,
   "id": "c01586ff",
   "metadata": {},
   "outputs": [
    {
     "data": {
      "text/html": [
       "<div>\n",
       "<style scoped>\n",
       "    .dataframe tbody tr th:only-of-type {\n",
       "        vertical-align: middle;\n",
       "    }\n",
       "\n",
       "    .dataframe tbody tr th {\n",
       "        vertical-align: top;\n",
       "    }\n",
       "\n",
       "    .dataframe thead th {\n",
       "        text-align: right;\n",
       "    }\n",
       "</style>\n",
       "<table border=\"1\" class=\"dataframe\">\n",
       "  <thead>\n",
       "    <tr style=\"text-align: right;\">\n",
       "      <th></th>\n",
       "      <th>call_timestamp</th>\n",
       "      <th>date</th>\n",
       "    </tr>\n",
       "  </thead>\n",
       "  <tbody>\n",
       "    <tr>\n",
       "      <th>0</th>\n",
       "      <td>10/10/2020</td>\n",
       "      <td>2020-10-10 00:00:00</td>\n",
       "    </tr>\n",
       "    <tr>\n",
       "      <th>1</th>\n",
       "      <td>10/01/2020</td>\n",
       "      <td>2020-10-01 00:00:00</td>\n",
       "    </tr>\n",
       "  </tbody>\n",
       "</table>\n",
       "</div>"
      ],
      "text/plain": [
       "  call_timestamp                 date\n",
       "0     10/10/2020  2020-10-10 00:00:00\n",
       "1     10/01/2020  2020-10-01 00:00:00"
      ]
     },
     "execution_count": 37,
     "metadata": {},
     "output_type": "execute_result"
    }
   ],
   "source": [
    "# Select call_timestamp And Convert it To TimeStamp Type\n",
    "time_data = (call_center_df.select('call_timestamp',\n",
    "                F.from_unixtime(F.unix_timestamp('call_timestamp', 'MM/dd/yyy'))\n",
    "                 .alias('date'))\n",
    "                 .dropDuplicates())\n",
    "# Select First Two rows \n",
    "time_data.limit(2).toPandas()"
   ]
  },
  {
   "cell_type": "code",
   "execution_count": 38,
   "id": "bd0b6baf",
   "metadata": {},
   "outputs": [
    {
     "data": {
      "text/html": [
       "<div>\n",
       "<style scoped>\n",
       "    .dataframe tbody tr th:only-of-type {\n",
       "        vertical-align: middle;\n",
       "    }\n",
       "\n",
       "    .dataframe tbody tr th {\n",
       "        vertical-align: top;\n",
       "    }\n",
       "\n",
       "    .dataframe thead th {\n",
       "        text-align: right;\n",
       "    }\n",
       "</style>\n",
       "<table border=\"1\" class=\"dataframe\">\n",
       "  <thead>\n",
       "    <tr style=\"text-align: right;\">\n",
       "      <th></th>\n",
       "      <th>call_timestamp</th>\n",
       "      <th>date</th>\n",
       "      <th>day</th>\n",
       "      <th>week</th>\n",
       "      <th>weekday</th>\n",
       "      <th>month</th>\n",
       "      <th>year</th>\n",
       "      <th>call_date</th>\n",
       "    </tr>\n",
       "  </thead>\n",
       "  <tbody>\n",
       "    <tr>\n",
       "      <th>0</th>\n",
       "      <td>10/10/2020</td>\n",
       "      <td>2020-10-10 00:00:00</td>\n",
       "      <td>10</td>\n",
       "      <td>41</td>\n",
       "      <td>Sat</td>\n",
       "      <td>10</td>\n",
       "      <td>2020</td>\n",
       "      <td>2020-10-10</td>\n",
       "    </tr>\n",
       "    <tr>\n",
       "      <th>1</th>\n",
       "      <td>10/01/2020</td>\n",
       "      <td>2020-10-01 00:00:00</td>\n",
       "      <td>1</td>\n",
       "      <td>40</td>\n",
       "      <td>Thu</td>\n",
       "      <td>10</td>\n",
       "      <td>2020</td>\n",
       "      <td>2020-10-01</td>\n",
       "    </tr>\n",
       "  </tbody>\n",
       "</table>\n",
       "</div>"
      ],
      "text/plain": [
       "  call_timestamp                 date  day  week weekday  month  year  \\\n",
       "0     10/10/2020  2020-10-10 00:00:00   10    41     Sat     10  2020   \n",
       "1     10/01/2020  2020-10-01 00:00:00    1    40     Thu     10  2020   \n",
       "\n",
       "    call_date  \n",
       "0  2020-10-10  \n",
       "1  2020-10-01  "
      ]
     },
     "execution_count": 38,
     "metadata": {},
     "output_type": "execute_result"
    }
   ],
   "source": [
    "# Select Data We Need\n",
    "time_data = (time_data.withColumn(\"day\",F.dayofmonth(\"date\"))\n",
    "                      .withColumn('week',F.weekofyear('date'))\n",
    "                      .withColumn('weekday',F.date_format(\"date\", \"E\"))\n",
    "                      .withColumn('month',F.month('date'))\n",
    "                      .withColumn('year',F.year(\"date\"))\n",
    "                      .withColumn('call_date',F.to_date(\"date\")))\n",
    "time_data.limit(2).toPandas()"
   ]
  },
  {
   "cell_type": "code",
   "execution_count": 39,
   "id": "d325bb77",
   "metadata": {},
   "outputs": [
    {
     "name": "stdout",
     "output_type": "stream",
     "text": [
      "root\n",
      " |-- call_date: date (nullable = true)\n",
      " |-- day: integer (nullable = true)\n",
      " |-- week: integer (nullable = true)\n",
      " |-- weekday: string (nullable = true)\n",
      " |-- month: integer (nullable = true)\n",
      " |-- year: integer (nullable = true)\n",
      "\n"
     ]
    }
   ],
   "source": [
    "# Our Customer Schema Must Be \n",
    "# * call_date date\n",
    "# * day       integer\n",
    "# * week      integer\n",
    "# * weekday   String\n",
    "# * month     integer\n",
    "# * year      integer\n",
    "#reorganization of the structure\n",
    "time_data = time_data.select('call_date','day','week','weekday','month','year')\n",
    "#check Our Schema\n",
    "time_data.printSchema()"
   ]
  },
  {
   "cell_type": "markdown",
   "id": "25d24461",
   "metadata": {},
   "source": [
    "### Extract Call Information Data\n",
    "* call_id\n",
    "* reason\n",
    "* channel\n",
    "* call_center\n",
    "* response_time"
   ]
  },
  {
   "cell_type": "code",
   "execution_count": 40,
   "id": "fd876f82",
   "metadata": {},
   "outputs": [
    {
     "data": {
      "text/html": [
       "<div>\n",
       "<style scoped>\n",
       "    .dataframe tbody tr th:only-of-type {\n",
       "        vertical-align: middle;\n",
       "    }\n",
       "\n",
       "    .dataframe tbody tr th {\n",
       "        vertical-align: top;\n",
       "    }\n",
       "\n",
       "    .dataframe thead th {\n",
       "        text-align: right;\n",
       "    }\n",
       "</style>\n",
       "<table border=\"1\" class=\"dataframe\">\n",
       "  <thead>\n",
       "    <tr style=\"text-align: right;\">\n",
       "      <th></th>\n",
       "      <th>call_id</th>\n",
       "      <th>reason</th>\n",
       "      <th>channel</th>\n",
       "      <th>call_center</th>\n",
       "      <th>response_time</th>\n",
       "    </tr>\n",
       "  </thead>\n",
       "  <tbody>\n",
       "    <tr>\n",
       "      <th>0</th>\n",
       "      <td>DKK-57076809-w-055481-fU</td>\n",
       "      <td>Billing Question</td>\n",
       "      <td>Call-Center</td>\n",
       "      <td>Los Angeles/CA</td>\n",
       "      <td>Within SLA</td>\n",
       "    </tr>\n",
       "    <tr>\n",
       "      <th>1</th>\n",
       "      <td>QGK-72219678-w-102139-KY</td>\n",
       "      <td>Service Outage</td>\n",
       "      <td>Chatbot</td>\n",
       "      <td>Baltimore/MD</td>\n",
       "      <td>Within SLA</td>\n",
       "    </tr>\n",
       "  </tbody>\n",
       "</table>\n",
       "</div>"
      ],
      "text/plain": [
       "                    call_id            reason      channel     call_center  \\\n",
       "0  DKK-57076809-w-055481-fU  Billing Question  Call-Center  Los Angeles/CA   \n",
       "1  QGK-72219678-w-102139-KY    Service Outage      Chatbot    Baltimore/MD   \n",
       "\n",
       "  response_time  \n",
       "0    Within SLA  \n",
       "1    Within SLA  "
      ]
     },
     "execution_count": 40,
     "metadata": {},
     "output_type": "execute_result"
    }
   ],
   "source": [
    "# Select Data We Need \n",
    "call_info = call_center_df.selectExpr('id as call_id','reason','channel','call_center','response_time')\n",
    "# Select First Two rows \n",
    "call_info.limit(2).toPandas()"
   ]
  },
  {
   "cell_type": "code",
   "execution_count": 41,
   "id": "75841c05",
   "metadata": {},
   "outputs": [
    {
     "name": "stdout",
     "output_type": "stream",
     "text": [
      "root\n",
      " |-- call_id: string (nullable = true)\n",
      " |-- reason: string (nullable = true)\n",
      " |-- channel: string (nullable = true)\n",
      " |-- call_center: string (nullable = true)\n",
      " |-- response_time: string (nullable = true)\n",
      "\n"
     ]
    }
   ],
   "source": [
    "# Our Call Information Must Be \n",
    "# * call_id       string \n",
    "# * reason        string \n",
    "# * channel       string \n",
    "# * call_center   string \n",
    "# * response_time string \n",
    "# check Our Schema\n",
    "call_info.printSchema()"
   ]
  },
  {
   "cell_type": "markdown",
   "id": "59bfe730",
   "metadata": {},
   "source": [
    "### Extract Call Data\n",
    "* call_id\n",
    "* customer_id \n",
    "* call_date\n",
    "* cast_score\n",
    "* call_in_minutes\n"
   ]
  },
  {
   "cell_type": "code",
   "execution_count": 43,
   "id": "dbc2b766",
   "metadata": {},
   "outputs": [
    {
     "name": "stdout",
     "output_type": "stream",
     "text": [
      "root\n",
      " |-- id: string (nullable = true)\n",
      " |-- customer_name: string (nullable = true)\n",
      " |-- sentiment: string (nullable = true)\n",
      " |-- csat_score: string (nullable = true)\n",
      " |-- call_timestamp: string (nullable = true)\n",
      " |-- reason: string (nullable = true)\n",
      " |-- city: string (nullable = true)\n",
      " |-- state: string (nullable = true)\n",
      " |-- channel: string (nullable = true)\n",
      " |-- response_time: string (nullable = true)\n",
      " |-- call duration in minutes: string (nullable = true)\n",
      " |-- call_center: string (nullable = true)\n",
      "\n"
     ]
    }
   ],
   "source": [
    "call_center_df.printSchema()"
   ]
  },
  {
   "cell_type": "code",
   "execution_count": 44,
   "id": "2333a367",
   "metadata": {},
   "outputs": [
    {
     "data": {
      "text/html": [
       "<div>\n",
       "<style scoped>\n",
       "    .dataframe tbody tr th:only-of-type {\n",
       "        vertical-align: middle;\n",
       "    }\n",
       "\n",
       "    .dataframe tbody tr th {\n",
       "        vertical-align: top;\n",
       "    }\n",
       "\n",
       "    .dataframe thead th {\n",
       "        text-align: right;\n",
       "    }\n",
       "</style>\n",
       "<table border=\"1\" class=\"dataframe\">\n",
       "  <thead>\n",
       "    <tr style=\"text-align: right;\">\n",
       "      <th></th>\n",
       "      <th>call_id</th>\n",
       "      <th>call_date</th>\n",
       "      <th>csat_score</th>\n",
       "      <th>call_in_minutes</th>\n",
       "      <th>customer_id</th>\n",
       "    </tr>\n",
       "  </thead>\n",
       "  <tbody>\n",
       "    <tr>\n",
       "      <th>0</th>\n",
       "      <td>DKK-57076809-w-055481-fU</td>\n",
       "      <td>2020-10-29</td>\n",
       "      <td>7.0</td>\n",
       "      <td>17</td>\n",
       "      <td>0</td>\n",
       "    </tr>\n",
       "    <tr>\n",
       "      <th>1</th>\n",
       "      <td>QGK-72219678-w-102139-KY</td>\n",
       "      <td>2020-10-05</td>\n",
       "      <td>NaN</td>\n",
       "      <td>23</td>\n",
       "      <td>1</td>\n",
       "    </tr>\n",
       "  </tbody>\n",
       "</table>\n",
       "</div>"
      ],
      "text/plain": [
       "                    call_id   call_date  csat_score  call_in_minutes  \\\n",
       "0  DKK-57076809-w-055481-fU  2020-10-29         7.0               17   \n",
       "1  QGK-72219678-w-102139-KY  2020-10-05         NaN               23   \n",
       "\n",
       "   customer_id  \n",
       "0            0  \n",
       "1            1  "
      ]
     },
     "execution_count": 44,
     "metadata": {},
     "output_type": "execute_result"
    }
   ],
   "source": [
    "# Select Data We Need With Specific Data Type\n",
    "call_data=(call_center_df\n",
    "             .select(F.col('id').alias('call_id')\n",
    "           ,F.to_date( F.from_unixtime(F.unix_timestamp('call_timestamp', 'MM/dd/yyy')))\n",
    "             .alias('call_date')\n",
    "           ,F.col('csat_score').cast('int')\n",
    "           ,F.col('call duration in minutes').cast('int').alias(\"call_in_minutes\"))\n",
    "           .withColumn('customer_id',monotonically_increasing_id()))\n",
    "# Select First Two rows \n",
    "call_data.limit(2).toPandas()"
   ]
  },
  {
   "cell_type": "code",
   "execution_count": 45,
   "id": "8108ab5f",
   "metadata": {},
   "outputs": [
    {
     "data": {
      "text/plain": [
       "20670"
      ]
     },
     "execution_count": 45,
     "metadata": {},
     "output_type": "execute_result"
    }
   ],
   "source": [
    "# Show csat_score Null Value Count\n",
    "call_data.select('csat_score').where(F.col('csat_score').isNull()).count()"
   ]
  },
  {
   "cell_type": "code",
   "execution_count": 46,
   "id": "d633932d",
   "metadata": {},
   "outputs": [],
   "source": [
    "# Replaice Null Valu With Zero\n",
    "call_data=call_data.fillna({'csat_score':'0'})"
   ]
  },
  {
   "cell_type": "code",
   "execution_count": 47,
   "id": "3a40cf91",
   "metadata": {},
   "outputs": [
    {
     "data": {
      "text/plain": [
       "0"
      ]
     },
     "execution_count": 47,
     "metadata": {},
     "output_type": "execute_result"
    }
   ],
   "source": [
    "# Check Null Values\n",
    "call_data.select('csat_score').where(F.col('csat_score').isNull()).count()"
   ]
  },
  {
   "cell_type": "code",
   "execution_count": 48,
   "id": "358699db",
   "metadata": {},
   "outputs": [
    {
     "name": "stdout",
     "output_type": "stream",
     "text": [
      "root\n",
      " |-- call_id: string (nullable = true)\n",
      " |-- Customer_id: long (nullable = false)\n",
      " |-- call_date: date (nullable = true)\n",
      " |-- csat_score: integer (nullable = true)\n",
      " |-- call_in_minutes: integer (nullable = true)\n",
      "\n"
     ]
    }
   ],
   "source": [
    "# Our Call Information Must Be \n",
    "# * call_id       string \n",
    "# * Customer_id        string \n",
    "# * call_date       string \n",
    "# * csat_score   string \n",
    "# * call_in_minutes string \n",
    "\n",
    "# check Our Schema\n",
    "#reorganization of the structure\n",
    "call_data = call_data.select('call_id','Customer_id','call_date','csat_score','call_in_minutes')\n",
    "call_data.printSchema()"
   ]
  },
  {
   "cell_type": "markdown",
   "id": "9ce7f83c",
   "metadata": {},
   "source": [
    "# Load Data To DataBase"
   ]
  },
  {
   "cell_type": "markdown",
   "id": "59ed59d9",
   "metadata": {},
   "source": [
    "### 1 - Load Customer Data"
   ]
  },
  {
   "cell_type": "code",
   "execution_count": 22,
   "id": "8806f3a2",
   "metadata": {},
   "outputs": [],
   "source": [
    "# Load Customers Data To customers Table\n",
    "(customer_data.write.format(\"jdbc\")\n",
    "    .option(\"url\", \"jdbc:mysql://127.0.0.1:3306/call_center\")\n",
    "    .option(\"driver\", \"com.mysql.jdbc.Driver\").option(\"dbtable\", \"customers\") \n",
    "    .option(\"user\", \"root\").option(\"password\", \"abdyassein\").mode(\"append\").save())"
   ]
  },
  {
   "cell_type": "code",
   "execution_count": 25,
   "id": "ea601628",
   "metadata": {},
   "outputs": [],
   "source": [
    "# Load call time Data To call_time Table\n",
    "(time_data.write.format(\"jdbc\")\n",
    "    .option(\"url\", \"jdbc:mysql://127.0.0.1:3306/call_center\")\n",
    "    .option(\"driver\", \"com.mysql.jdbc.Driver\").option(\"dbtable\", \"call_time\") \n",
    "    .option(\"user\", \"root\").option(\"password\", \"abdyassein\").mode(\"append\").save())"
   ]
  },
  {
   "cell_type": "code",
   "execution_count": 49,
   "id": "dceaa245",
   "metadata": {},
   "outputs": [],
   "source": [
    "# Load call fact Data To call_fact Table\n",
    "(call_data.write.format(\"jdbc\")\n",
    "    .option(\"url\", \"jdbc:mysql://127.0.0.1:3306/call_center\")\n",
    "    .option(\"driver\", \"com.mysql.jdbc.Driver\").option(\"dbtable\", \"call_fact\") \n",
    "    .option(\"user\", \"root\").option(\"password\", \"abdyassein\").mode(\"append\").save())"
   ]
  },
  {
   "cell_type": "code",
   "execution_count": 50,
   "id": "076c387c",
   "metadata": {},
   "outputs": [],
   "source": [
    "# Load call info Data To call_info Table\n",
    "(call_info.write.format(\"jdbc\")\n",
    "    .option(\"url\", \"jdbc:mysql://127.0.0.1:3306/call_center\")\n",
    "    .option(\"driver\", \"com.mysql.jdbc.Driver\").option(\"dbtable\", \"call_info\") \n",
    "    .option(\"user\", \"root\").option(\"password\", \"abdyassein\").mode(\"append\").save())"
   ]
  },
  {
   "cell_type": "markdown",
   "id": "4f9c247b",
   "metadata": {},
   "source": [
    "# Data Quality Checks"
   ]
  },
  {
   "cell_type": "code",
   "execution_count": 56,
   "id": "c75561fc",
   "metadata": {},
   "outputs": [],
   "source": [
    "# Connect To call_info Table To Run Sql Query        \n",
    "call_info_df = (spark.read.format(\"jdbc\")\n",
    "                  .option(\"url\", \"jdbc:mysql://localhost:3306/call_center\") \n",
    "                  .option(\"driver\", \"com.mysql.jdbc.Driver\")\n",
    "                  .option(\"dbtable\", \"call_info\") \n",
    "                  .option(\"user\", \"root\").option(\"password\", \"abdyassein\").load())"
   ]
  },
  {
   "cell_type": "code",
   "execution_count": 59,
   "id": "b5939198",
   "metadata": {},
   "outputs": [
    {
     "data": {
      "text/plain": [
       "32941"
      ]
     },
     "execution_count": 59,
     "metadata": {},
     "output_type": "execute_result"
    }
   ],
   "source": [
    "# Count call_info Rows\n",
    "call_info_df.count()"
   ]
  },
  {
   "cell_type": "code",
   "execution_count": 60,
   "id": "94b4f4d9",
   "metadata": {},
   "outputs": [
    {
     "data": {
      "text/html": [
       "<div>\n",
       "<style scoped>\n",
       "    .dataframe tbody tr th:only-of-type {\n",
       "        vertical-align: middle;\n",
       "    }\n",
       "\n",
       "    .dataframe tbody tr th {\n",
       "        vertical-align: top;\n",
       "    }\n",
       "\n",
       "    .dataframe thead th {\n",
       "        text-align: right;\n",
       "    }\n",
       "</style>\n",
       "<table border=\"1\" class=\"dataframe\">\n",
       "  <thead>\n",
       "    <tr style=\"text-align: right;\">\n",
       "      <th></th>\n",
       "      <th>call_id</th>\n",
       "      <th>reason</th>\n",
       "      <th>channel</th>\n",
       "      <th>call_center</th>\n",
       "      <th>response_time</th>\n",
       "    </tr>\n",
       "  </thead>\n",
       "  <tbody>\n",
       "    <tr>\n",
       "      <th>0</th>\n",
       "      <td>AAA-03321706-1-866834-I1</td>\n",
       "      <td>Payments</td>\n",
       "      <td>Call-Center</td>\n",
       "      <td>Baltimore/MD</td>\n",
       "      <td>Within SLA</td>\n",
       "    </tr>\n",
       "    <tr>\n",
       "      <th>1</th>\n",
       "      <td>AAB-04923282-m-405308-yW</td>\n",
       "      <td>Service Outage</td>\n",
       "      <td>Web</td>\n",
       "      <td>Baltimore/MD</td>\n",
       "      <td>Below SLA</td>\n",
       "    </tr>\n",
       "    <tr>\n",
       "      <th>2</th>\n",
       "      <td>AAB-23102945-b-065985-xp</td>\n",
       "      <td>Billing Question</td>\n",
       "      <td>Call-Center</td>\n",
       "      <td>Chicago/IL</td>\n",
       "      <td>Above SLA</td>\n",
       "    </tr>\n",
       "    <tr>\n",
       "      <th>3</th>\n",
       "      <td>AAB-64454903-y-396859-bx</td>\n",
       "      <td>Service Outage</td>\n",
       "      <td>Web</td>\n",
       "      <td>Los Angeles/CA</td>\n",
       "      <td>Within SLA</td>\n",
       "    </tr>\n",
       "    <tr>\n",
       "      <th>4</th>\n",
       "      <td>AAB-68191584-X-296651-JM</td>\n",
       "      <td>Billing Question</td>\n",
       "      <td>Web</td>\n",
       "      <td>Chicago/IL</td>\n",
       "      <td>Within SLA</td>\n",
       "    </tr>\n",
       "  </tbody>\n",
       "</table>\n",
       "</div>"
      ],
      "text/plain": [
       "                    call_id            reason      channel     call_center  \\\n",
       "0  AAA-03321706-1-866834-I1          Payments  Call-Center    Baltimore/MD   \n",
       "1  AAB-04923282-m-405308-yW    Service Outage          Web    Baltimore/MD   \n",
       "2  AAB-23102945-b-065985-xp  Billing Question  Call-Center      Chicago/IL   \n",
       "3  AAB-64454903-y-396859-bx    Service Outage          Web  Los Angeles/CA   \n",
       "4  AAB-68191584-X-296651-JM  Billing Question          Web      Chicago/IL   \n",
       "\n",
       "  response_time  \n",
       "0    Within SLA  \n",
       "1     Below SLA  \n",
       "2     Above SLA  \n",
       "3    Within SLA  \n",
       "4    Within SLA  "
      ]
     },
     "execution_count": 60,
     "metadata": {},
     "output_type": "execute_result"
    }
   ],
   "source": [
    "# show call_info Simple Data\n",
    "call_info_df.limit(5).toPandas()"
   ]
  },
  {
   "cell_type": "code",
   "execution_count": 61,
   "id": "d6009fe1",
   "metadata": {},
   "outputs": [],
   "source": [
    "# Connect To call_time Table To Run Sql Query \n",
    "call_time_df = (spark.read.format(\"jdbc\")\n",
    "                  .option(\"url\", \"jdbc:mysql://localhost:3306/call_center\") \n",
    "                  .option(\"driver\", \"com.mysql.jdbc.Driver\")\n",
    "                  .option(\"dbtable\", \"call_time\") \n",
    "                  .option(\"user\", \"root\").option(\"password\", \"abdyassein\").load())"
   ]
  },
  {
   "cell_type": "code",
   "execution_count": 62,
   "id": "4995c5a0",
   "metadata": {},
   "outputs": [
    {
     "data": {
      "text/plain": [
       "31"
      ]
     },
     "execution_count": 62,
     "metadata": {},
     "output_type": "execute_result"
    }
   ],
   "source": [
    "# Count call_time Rows\n",
    "call_time_df.count()"
   ]
  },
  {
   "cell_type": "code",
   "execution_count": 63,
   "id": "bef05805",
   "metadata": {},
   "outputs": [
    {
     "data": {
      "text/html": [
       "<div>\n",
       "<style scoped>\n",
       "    .dataframe tbody tr th:only-of-type {\n",
       "        vertical-align: middle;\n",
       "    }\n",
       "\n",
       "    .dataframe tbody tr th {\n",
       "        vertical-align: top;\n",
       "    }\n",
       "\n",
       "    .dataframe thead th {\n",
       "        text-align: right;\n",
       "    }\n",
       "</style>\n",
       "<table border=\"1\" class=\"dataframe\">\n",
       "  <thead>\n",
       "    <tr style=\"text-align: right;\">\n",
       "      <th></th>\n",
       "      <th>call_date</th>\n",
       "      <th>day</th>\n",
       "      <th>week</th>\n",
       "      <th>weekday</th>\n",
       "      <th>month</th>\n",
       "      <th>year</th>\n",
       "    </tr>\n",
       "  </thead>\n",
       "  <tbody>\n",
       "    <tr>\n",
       "      <th>0</th>\n",
       "      <td>2020-10-01</td>\n",
       "      <td>1</td>\n",
       "      <td>40</td>\n",
       "      <td>Thu</td>\n",
       "      <td>10</td>\n",
       "      <td>2020</td>\n",
       "    </tr>\n",
       "    <tr>\n",
       "      <th>1</th>\n",
       "      <td>2020-10-02</td>\n",
       "      <td>2</td>\n",
       "      <td>40</td>\n",
       "      <td>Fri</td>\n",
       "      <td>10</td>\n",
       "      <td>2020</td>\n",
       "    </tr>\n",
       "    <tr>\n",
       "      <th>2</th>\n",
       "      <td>2020-10-03</td>\n",
       "      <td>3</td>\n",
       "      <td>40</td>\n",
       "      <td>Sat</td>\n",
       "      <td>10</td>\n",
       "      <td>2020</td>\n",
       "    </tr>\n",
       "    <tr>\n",
       "      <th>3</th>\n",
       "      <td>2020-10-04</td>\n",
       "      <td>4</td>\n",
       "      <td>40</td>\n",
       "      <td>Sun</td>\n",
       "      <td>10</td>\n",
       "      <td>2020</td>\n",
       "    </tr>\n",
       "    <tr>\n",
       "      <th>4</th>\n",
       "      <td>2020-10-05</td>\n",
       "      <td>5</td>\n",
       "      <td>41</td>\n",
       "      <td>Mon</td>\n",
       "      <td>10</td>\n",
       "      <td>2020</td>\n",
       "    </tr>\n",
       "  </tbody>\n",
       "</table>\n",
       "</div>"
      ],
      "text/plain": [
       "    call_date  day  week weekday  month  year\n",
       "0  2020-10-01    1    40     Thu     10  2020\n",
       "1  2020-10-02    2    40     Fri     10  2020\n",
       "2  2020-10-03    3    40     Sat     10  2020\n",
       "3  2020-10-04    4    40     Sun     10  2020\n",
       "4  2020-10-05    5    41     Mon     10  2020"
      ]
     },
     "execution_count": 63,
     "metadata": {},
     "output_type": "execute_result"
    }
   ],
   "source": [
    "# show call_time Simple Data\n",
    "call_time_df.limit(5).toPandas()"
   ]
  },
  {
   "cell_type": "code",
   "execution_count": 64,
   "id": "03ff948b",
   "metadata": {},
   "outputs": [],
   "source": [
    "# Connect To customers Table To Run Sql Query \n",
    "customers_df = (spark.read.format(\"jdbc\")\n",
    "                  .option(\"url\", \"jdbc:mysql://localhost:3306/call_center\") \n",
    "                  .option(\"driver\", \"com.mysql.jdbc.Driver\")\n",
    "                  .option(\"dbtable\", \"customers\") \n",
    "                  .option(\"user\", \"root\").option(\"password\", \"abdyassein\").load())"
   ]
  },
  {
   "cell_type": "code",
   "execution_count": 65,
   "id": "fe7af356",
   "metadata": {},
   "outputs": [
    {
     "data": {
      "text/plain": [
       "32941"
      ]
     },
     "execution_count": 65,
     "metadata": {},
     "output_type": "execute_result"
    }
   ],
   "source": [
    "# Count customers Rows\n",
    "customers_df.count()"
   ]
  },
  {
   "cell_type": "code",
   "execution_count": 66,
   "id": "b752531c",
   "metadata": {},
   "outputs": [
    {
     "data": {
      "text/html": [
       "<div>\n",
       "<style scoped>\n",
       "    .dataframe tbody tr th:only-of-type {\n",
       "        vertical-align: middle;\n",
       "    }\n",
       "\n",
       "    .dataframe tbody tr th {\n",
       "        vertical-align: top;\n",
       "    }\n",
       "\n",
       "    .dataframe thead th {\n",
       "        text-align: right;\n",
       "    }\n",
       "</style>\n",
       "<table border=\"1\" class=\"dataframe\">\n",
       "  <thead>\n",
       "    <tr style=\"text-align: right;\">\n",
       "      <th></th>\n",
       "      <th>customer_id</th>\n",
       "      <th>customer_name</th>\n",
       "      <th>city</th>\n",
       "      <th>state</th>\n",
       "      <th>sentiment</th>\n",
       "    </tr>\n",
       "  </thead>\n",
       "  <tbody>\n",
       "    <tr>\n",
       "      <th>0</th>\n",
       "      <td>0</td>\n",
       "      <td>Analise Gairdner</td>\n",
       "      <td>Detroit</td>\n",
       "      <td>Michigan</td>\n",
       "      <td>Neutral</td>\n",
       "    </tr>\n",
       "    <tr>\n",
       "      <th>1</th>\n",
       "      <td>1</td>\n",
       "      <td>Crichton Kidsley</td>\n",
       "      <td>Spartanburg</td>\n",
       "      <td>South Carolina</td>\n",
       "      <td>Very Positive</td>\n",
       "    </tr>\n",
       "    <tr>\n",
       "      <th>2</th>\n",
       "      <td>2</td>\n",
       "      <td>Averill Brundrett</td>\n",
       "      <td>Gainesville</td>\n",
       "      <td>Florida</td>\n",
       "      <td>Negative</td>\n",
       "    </tr>\n",
       "    <tr>\n",
       "      <th>3</th>\n",
       "      <td>3</td>\n",
       "      <td>Noreen Lafflina</td>\n",
       "      <td>Portland</td>\n",
       "      <td>Oregon</td>\n",
       "      <td>Very Negative</td>\n",
       "    </tr>\n",
       "    <tr>\n",
       "      <th>4</th>\n",
       "      <td>4</td>\n",
       "      <td>Toma Van der Beken</td>\n",
       "      <td>Fort Wayne</td>\n",
       "      <td>Indiana</td>\n",
       "      <td>Very Positive</td>\n",
       "    </tr>\n",
       "  </tbody>\n",
       "</table>\n",
       "</div>"
      ],
      "text/plain": [
       "   customer_id       customer_name         city           state      sentiment\n",
       "0            0    Analise Gairdner      Detroit        Michigan        Neutral\n",
       "1            1    Crichton Kidsley  Spartanburg  South Carolina  Very Positive\n",
       "2            2   Averill Brundrett  Gainesville         Florida       Negative\n",
       "3            3     Noreen Lafflina     Portland          Oregon  Very Negative\n",
       "4            4  Toma Van der Beken   Fort Wayne         Indiana  Very Positive"
      ]
     },
     "execution_count": 66,
     "metadata": {},
     "output_type": "execute_result"
    }
   ],
   "source": [
    "# show customers Simple Data\n",
    "customers_df.limit(5).toPandas()"
   ]
  },
  {
   "cell_type": "code",
   "execution_count": 67,
   "id": "2681e0a6",
   "metadata": {},
   "outputs": [],
   "source": [
    "# Connect To call_fact Table To Run Sql Query \n",
    "call_fact_df = (spark.read.format(\"jdbc\")\n",
    "                  .option(\"url\", \"jdbc:mysql://localhost:3306/call_center\") \n",
    "                  .option(\"driver\", \"com.mysql.jdbc.Driver\")\n",
    "                  .option(\"dbtable\", \"call_fact\") \n",
    "                  .option(\"user\", \"root\").option(\"password\", \"abdyassein\").load())"
   ]
  },
  {
   "cell_type": "code",
   "execution_count": 68,
   "id": "b48325ff",
   "metadata": {},
   "outputs": [
    {
     "data": {
      "text/plain": [
       "32941"
      ]
     },
     "execution_count": 68,
     "metadata": {},
     "output_type": "execute_result"
    }
   ],
   "source": [
    "# Count call_fact Rows\n",
    "call_fact_df.count()"
   ]
  },
  {
   "cell_type": "code",
   "execution_count": 69,
   "id": "d5a0b064",
   "metadata": {},
   "outputs": [
    {
     "data": {
      "text/html": [
       "<div>\n",
       "<style scoped>\n",
       "    .dataframe tbody tr th:only-of-type {\n",
       "        vertical-align: middle;\n",
       "    }\n",
       "\n",
       "    .dataframe tbody tr th {\n",
       "        vertical-align: top;\n",
       "    }\n",
       "\n",
       "    .dataframe thead th {\n",
       "        text-align: right;\n",
       "    }\n",
       "</style>\n",
       "<table border=\"1\" class=\"dataframe\">\n",
       "  <thead>\n",
       "    <tr style=\"text-align: right;\">\n",
       "      <th></th>\n",
       "      <th>call_id</th>\n",
       "      <th>customer_id</th>\n",
       "      <th>call_date</th>\n",
       "      <th>csat_score</th>\n",
       "      <th>call_in_minutes</th>\n",
       "    </tr>\n",
       "  </thead>\n",
       "  <tbody>\n",
       "    <tr>\n",
       "      <th>0</th>\n",
       "      <td>AAA-03321706-1-866834-I1</td>\n",
       "      <td>23666</td>\n",
       "      <td>2020-10-15</td>\n",
       "      <td>3</td>\n",
       "      <td>12</td>\n",
       "    </tr>\n",
       "    <tr>\n",
       "      <th>1</th>\n",
       "      <td>AAB-04923282-m-405308-yW</td>\n",
       "      <td>12662</td>\n",
       "      <td>2020-10-22</td>\n",
       "      <td>0</td>\n",
       "      <td>5</td>\n",
       "    </tr>\n",
       "    <tr>\n",
       "      <th>2</th>\n",
       "      <td>AAB-23102945-b-065985-xp</td>\n",
       "      <td>19408</td>\n",
       "      <td>2020-10-06</td>\n",
       "      <td>0</td>\n",
       "      <td>9</td>\n",
       "    </tr>\n",
       "    <tr>\n",
       "      <th>3</th>\n",
       "      <td>AAB-64454903-y-396859-bx</td>\n",
       "      <td>15934</td>\n",
       "      <td>2020-10-15</td>\n",
       "      <td>0</td>\n",
       "      <td>20</td>\n",
       "    </tr>\n",
       "    <tr>\n",
       "      <th>4</th>\n",
       "      <td>AAB-68191584-X-296651-JM</td>\n",
       "      <td>14913</td>\n",
       "      <td>2020-10-02</td>\n",
       "      <td>0</td>\n",
       "      <td>43</td>\n",
       "    </tr>\n",
       "  </tbody>\n",
       "</table>\n",
       "</div>"
      ],
      "text/plain": [
       "                    call_id  customer_id   call_date  csat_score  \\\n",
       "0  AAA-03321706-1-866834-I1        23666  2020-10-15           3   \n",
       "1  AAB-04923282-m-405308-yW        12662  2020-10-22           0   \n",
       "2  AAB-23102945-b-065985-xp        19408  2020-10-06           0   \n",
       "3  AAB-64454903-y-396859-bx        15934  2020-10-15           0   \n",
       "4  AAB-68191584-X-296651-JM        14913  2020-10-02           0   \n",
       "\n",
       "   call_in_minutes  \n",
       "0               12  \n",
       "1                5  \n",
       "2                9  \n",
       "3               20  \n",
       "4               43  "
      ]
     },
     "execution_count": 69,
     "metadata": {},
     "output_type": "execute_result"
    }
   ],
   "source": [
    "# show call_fact Simple Data\n",
    "call_fact_df.limit(5).toPandas()"
   ]
  },
  {
   "cell_type": "code",
   "execution_count": 70,
   "id": "11247898",
   "metadata": {},
   "outputs": [],
   "source": [
    "spark.stop()"
   ]
  }
 ],
 "metadata": {
  "kernelspec": {
   "display_name": "Python 3.9.5 64-bit",
   "language": "python",
   "name": "python3"
  },
  "language_info": {
   "codemirror_mode": {
    "name": "ipython",
    "version": 3
   },
   "file_extension": ".py",
   "mimetype": "text/x-python",
   "name": "python",
   "nbconvert_exporter": "python",
   "pygments_lexer": "ipython3",
   "version": "3.9.5"
  },
  "vscode": {
   "interpreter": {
    "hash": "7c005c149506ac9e3ff5adf7264e9953b02103559dae49f3dfeb2b9a8109befe"
   }
  }
 },
 "nbformat": 4,
 "nbformat_minor": 5
}
